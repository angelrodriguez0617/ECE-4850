{
 "cells": [
  {
   "cell_type": "code",
   "execution_count": 3,
   "metadata": {},
   "outputs": [],
   "source": [
    "import numpy as np\n",
    "import matplotlib.pyplot as plt\n",
    "from gendat2_python import gendat2"
   ]
  },
  {
   "cell_type": "code",
   "execution_count": 39,
   "metadata": {},
   "outputs": [
    {
     "data": {
      "image/png": "[encoded data removed]",
      "text/plain": [
       "<Figure size 640x480 with 1 Axes>"
      ]
     },
     "metadata": {},
     "output_type": "display_data"
    }
   ],
   "source": [
    "# loads the sample data where x0,y0 represents class 0 and x1,y1 represents class 1\n",
    "x0, y0, x1, y1 = np.loadtxt('classasgntrain1.dat').T\n",
    "N0 = x0.size\n",
    "N1 = x1.size\n",
    "N = N0 + N1\n",
    "# this just plots the sample/given data\n",
    "fig, ax = plt.subplots()\n",
    "ax.plot(x0, y0, 'gx', label='Class 0')\n",
    "ax.plot(x1, y1, 'ro', label='Class 1')\n",
    "ax.legend()\n",
    "plt.title(\"Sample Population\")\n",
    "plt.show()"
   ]
  },
  {
   "cell_type": "code",
   "execution_count": 58,
   "metadata": {},
   "outputs": [
    {
     "name": "stdout",
     "output_type": "stream",
     "text": [
      "x0: (100,)\n",
      "x1: (100,)\n",
      "N: 200\n"
     ]
    }
   ],
   "source": [
    "x0, y0, x1, y1 = np.loadtxt('classasgntrain1.dat').T\n",
    "# x0 = np.array([x0,y0])\n",
    "# x1 = np.array([x1,y1])\n",
    "print(f'x0: {x0.shape}')\n",
    "print(f'x1: {x1.shape}')\n",
    "print(f'N: {N}')"
   ]
  },
  {
   "cell_type": "code",
   "execution_count": 74,
   "metadata": {},
   "outputs": [
    {
     "name": "stdout",
     "output_type": "stream",
     "text": [
      "X_aug: (200, 3)\n",
      "Y: (200, 2)\n"
     ]
    }
   ],
   "source": [
    "# Build the X matrix\n",
    "class_0_matrix = np.array([np.ones(N0), x0, y0]).T\n",
    "class_1_matrix = np.array([np.ones(N1), x1, y1]).T\n",
    "X_aug = np.concatenate((class_0_matrix, class_1_matrix), axis=0)\n",
    "# Build the indicator response matrix \n",
    "Y0_array = np.array([np.ones(N0), np.zeros(N0)]).T\n",
    "Y1_array = np.array([np.zeros(N1), np.ones(N1)]).T\n",
    "Y = np.concatenate((Y0_array, Y1_array), axis=0)\n",
    "# print(f'class_0_matrix: {class_0_matrix.shape}')\n",
    "# print(f'class_1_matrix: {class_1_matrix.shape}')\n",
    "print(f'X_aug: {X_aug.shape}')\n",
    "print(f'Y: {Y.shape}')"
   ]
  },
  {
   "cell_type": "code",
   "execution_count": 81,
   "metadata": {},
   "outputs": [
    {
     "name": "stdout",
     "output_type": "stream",
     "text": [
      "Bhat: (3, 2)\n",
      "Yhat: (200, 2)\n",
      "errrate_linregress_train: 0.145\n"
     ]
    }
   ],
   "source": [
    "# Find the parameter matrix\n",
    "# Bhat = (X'*X) \\ X'* Y;\n",
    "Bhat = np.dot(np.dot(np.linalg.pinv(np.dot(X_aug.T, X_aug)), X_aug.T), Y)\n",
    "# Find the approximate response\n",
    "Yhat = np.dot(X_aug, Bhat)\n",
    "Yhathard = Yhat > 0.5 # threshold into different classes\n",
    "nerr = np.divide(np.sum(np.sum(np.absolute(Yhathard - Y))), 2); # count the total number of errors \n",
    "errrate_linregress_train = np.divide(nerr,N) \n",
    "print(f'Bhat: {Bhat.shape}')\n",
    "print(f'Yhat: {Yhat.shape}')\n",
    "print(f'errrate_linregress_train: {errrate_linregress_train}')\n"
   ]
  },
  {
   "cell_type": "code",
   "execution_count": 100,
   "metadata": {},
   "outputs": [
    {
     "name": "stdout",
     "output_type": "stream",
     "text": [
      "xtest0: (2, 5000)\n",
      "xtest1: (2, 5000)\n"
     ]
    }
   ],
   "source": [
    "# Now test on new (testing data)\n",
    "Ntest0 = 5000 # number of class 0 points to generate\n",
    "Ntest1 = 5000 # number of class 1 points to generate\n",
    "xtest0 = gendat2(0,Ntest0) # generate the test data for class 0 \n",
    "xtest1 = gendat2(1,Ntest1) # generate the test data for class 1 \n",
    "nerr = 0\n",
    "print(f'xtest0: {xtest0.shape}')\n",
    "print(f'xtest1: {xtest1.shape}')"
   ]
  },
  {
   "cell_type": "code",
   "execution_count": 102,
   "metadata": {},
   "outputs": [
    {
     "name": "stdout",
     "output_type": "stream",
     "text": [
      "[-0.25328709  1.40170061  0.35481814 ... -1.11658095  2.51233939\n",
      " -0.34415072]\n"
     ]
    },
    {
     "ename": "ValueError",
     "evalue": "setting an array element with a sequence. The requested array has an inhomogeneous shape after 1 dimensions. The detected shape was (2,) + inhomogeneous part.",
     "output_type": "error",
     "traceback": [
      "\u001b[1;31m---------------------------------------------------------------------------\u001b[0m",
      "\u001b[1;31mValueError\u001b[0m                                Traceback (most recent call last)",
      "Cell \u001b[1;32mIn[102], line 4\u001b[0m\n\u001b[0;32m      2\u001b[0m \u001b[39mfor\u001b[39;00m i \u001b[39min\u001b[39;00m \u001b[39mrange\u001b[39m(\u001b[39m0\u001b[39m, Ntest0):\n\u001b[0;32m      3\u001b[0m     temp_var \u001b[39m=\u001b[39m xtest0[:,i]\n\u001b[1;32m----> 4\u001b[0m     yhat \u001b[39m=\u001b[39m np\u001b[39m.\u001b[39mdot( np\u001b[39m.\u001b[39;49marray([\u001b[39m1\u001b[39;49m, temp_var\u001b[39m.\u001b[39;49mT]), Bhat)\n\u001b[0;32m      5\u001b[0m     \u001b[39mif\u001b[39;00m yhat[\u001b[39m0\u001b[39m] \u001b[39m>\u001b[39m yhat[\u001b[39m1\u001b[39m]: \u001b[39m# error: chose class 0 over class 1\u001b[39;00m\n\u001b[0;32m      6\u001b[0m         nerr \u001b[39m+\u001b[39m\u001b[39m=\u001b[39m \u001b[39m1\u001b[39m\n",
      "\u001b[1;31mValueError\u001b[0m: setting an array element with a sequence. The requested array has an inhomogeneous shape after 1 dimensions. The detected shape was (2,) + inhomogeneous part."
     ]
    }
   ],
   "source": [
    "print(f'{xtest0[:,0]}')\n",
    "for i in range(0, Ntest0):\n",
    "    temp_var = xtest0[:,i]\n",
    "    yhat = np.dot( np.array([1, temp_var.T]), Bhat)\n",
    "    if yhat[0] > yhat[1]: # error: chose class 0 over class 1\n",
    "        nerr += 1"
   ]
  },
  {
   "cell_type": "code",
   "execution_count": null,
   "metadata": {},
   "outputs": [],
   "source": []
  }
 ],
 "metadata": {
  "kernelspec": {
   "display_name": "Python 3",
   "language": "python",
   "name": "python3"
  },
  "language_info": {
   "codemirror_mode": {
    "name": "ipython",
    "version": 3
   },
   "file_extension": ".py",
   "mimetype": "text/x-python",
   "name": "python",
   "nbconvert_exporter": "python",
   "pygments_lexer": "ipython3",
   "version": "3.11.2"
  },
  "orig_nbformat": 4,
  "vscode": {
   "interpreter": {
    "hash": "e7370f93d1d0cde622a1f8e1c04877d8463912d04d973331ad4851f04de6915a"
   }
  }
 },
 "nbformat": 4,
 "nbformat_minor": 2
}
