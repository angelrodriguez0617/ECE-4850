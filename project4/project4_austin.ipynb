{
 "cells": [
  {
   "cell_type": "code",
   "execution_count": 37,
   "metadata": {},
   "outputs": [],
   "source": [
    "import numpy as np\n",
    "import matplotlib.pyplot as plt\n",
    "from importlib import reload"
   ]
  },
  {
   "cell_type": "code",
   "execution_count": 38,
   "metadata": {},
   "outputs": [
    {
     "data": {
      "text/plain": [
       "<module 'useful_functions' from '/storage/git/ECE-4850/project4/useful_functions.py'>"
      ]
     },
     "execution_count": 38,
     "metadata": {},
     "output_type": "execute_result"
    }
   ],
   "source": [
    "# custom library\n",
    "import useful_functions\n",
    "# useful for when you need to reload your library without reloading the entire notebook\n",
    "reload(useful_functions)"
   ]
  },
  {
   "cell_type": "code",
   "execution_count": 39,
   "metadata": {},
   "outputs": [
    {
     "name": "stdout",
     "output_type": "stream",
     "text": [
      "This is x0 array: \n",
      "[ 0.5364  1.044   0.6646  1.6022 -0.6463  1.6813  3.4658 -0.3678  1.5382\n",
      "  1.7227  1.985   0.4627  3.304   2.0612  2.9284  3.5647  3.0219  0.8157\n",
      "  4.1266  0.5339 -0.6916  3.3052  3.7177  3.0084  2.4651 -0.33    2.2648\n",
      "  0.7884  2.1944  0.3084  2.8847 -0.2177 -0.5453  0.1466  2.1405 -1.1063\n",
      "  1.7957  1.2054 -0.8116 -1.2637 -0.1458  0.0521  1.8661  1.0862  0.6089\n",
      "  3.0669  3.445  -0.3663 -0.6196  0.0949  1.9963  1.0631 -0.2911  1.5544\n",
      "  0.4818  0.2334 -0.0764  0.0928  0.6352  3.7316  1.1341  4.2796  1.805\n",
      "  1.993   1.4409  1.6003 -1.0116 -0.9765  1.2194  1.8265  1.6406  0.3619\n",
      "  1.7522  1.3861  2.7766  2.1086  1.2134 -0.0797  2.1316 -0.9544  0.2657\n",
      " -1.1966  1.016   3.5862  4.6887  0.3536  0.5118  0.2368 -1.1131 -0.0962\n",
      " -0.1009  2.6252 -0.8228 -0.7261  0.2724  1.2832  1.2111  0.2464  1.1859\n",
      " -0.4559  0.6983  1.2534 -0.0284 -0.7349 -1.0773  0.9719  0.5375  2.451\n",
      "  0.9435 -1.5079 -0.5036 -1.3641  1.5019  0.5274 -0.8851  1.9917  0.3774\n",
      "  0.0681  0.8296  0.2667  0.389  -0.3817  0.3018  2.0593 -1.0475 -0.1297\n",
      "  1.0761 -1.918   1.2367  3.0957 -0.7751 -0.8431 -1.8811  0.96    0.5399\n",
      "  0.0575  2.023   1.367   1.6659  0.3466  0.2766  0.737   1.7662  0.625\n",
      "  1.5418  0.985   0.4844  1.3942 -0.1413 -0.2865  1.4387  0.1582 -0.7815\n",
      " -1.5289 -0.0079  0.8506 -1.4206  1.0677  2.2356 -0.8627  0.882   0.2288\n",
      " -0.4842 -1.0944 -1.1745  0.3358  0.6033 -0.4796 -0.3799  0.1867  1.4557\n",
      " -1.2941  1.4684 -1.0845 -1.1642  2.0416  1.5267  2.7083  0.0985 -0.5341\n",
      "  0.9557  0.7105  0.6105 -1.0164 -0.8381  1.3301  0.3175 -1.1567 -1.3956\n",
      " -0.9053  0.5955  0.0118 -0.3633  0.5394 -0.2796  2.3497  0.3094  0.5152\n",
      " -0.0547 -0.7025]\n",
      "\n",
      "This is x1 array: \n",
      "[-0.6055  0.4336 -0.7502  0.7294 -0.3144 -0.048   0.3572 -1.4774  0.2534\n",
      " -0.5464 -0.2172 -0.5254 -0.9098  0.0202 -0.4195 -1.2869 -1.055  -1.7896\n",
      "  0.0071 -2.0298 -2.1691 -0.5398 -1.0457 -0.1546 -0.3471 -0.7327  2.0266\n",
      " -0.1022  0.7928  1.0034 -0.7308 -0.5038 -1.0015 -1.3081  0.5251 -1.2778\n",
      " -0.2323 -0.4645 -1.6056 -1.9072 -0.269  -1.0656  1.4395 -0.2489 -0.4225\n",
      "  1.2002 -0.0144  0.4899 -1.7053  0.6133  0.2393  0.8447 -1.5636 -0.978\n",
      "  0.7495 -1.8951 -2.549  -1.0469 -0.4437 -0.7979 -0.3311 -0.4712 -0.746\n",
      "  0.6257  0.8666  0.3311 -0.9552 -0.7593 -0.8118  1.0818  0.3203  0.2822\n",
      " -0.206  -1.1405 -0.2722 -0.4188 -0.364   1.3765  0.5185 -1.8277 -1.9005\n",
      " -2.3501 -1.0653  0.1629 -0.0106  1.0037 -1.1468 -1.6675 -1.9126  0.8963\n",
      " -1.531  -0.2185 -0.8788 -1.9154 -1.5745 -1.1503 -0.1487  1.1344 -1.3945\n",
      " -1.6369  1.4892  0.5015  1.6816  1.5681  1.3887  2.6741  3.0429 -0.1354\n",
      " -0.0158  2.5071  2.0951  0.3351  2.1717  2.1928 -0.2488 -0.657   2.0979\n",
      "  0.1024  1.6983  2.2606  2.7152  2.1047 -0.0551  2.4335  1.6562  1.705\n",
      "  2.8117  1.2053  0.15    0.7894  0.6708  1.3071  2.5904  2.5829  2.2981\n",
      "  0.5162  0.2078  2.7467  1.1655  1.9645  2.499   1.2507  1.2659  0.5614\n",
      "  0.183   2.4096  2.0569  3.1721  2.284   2.5019  0.2277  0.8763  0.8001\n",
      "  1.5711  1.7426  2.2463  2.4577  0.0144  0.569   0.5277  3.5951  2.8987\n",
      "  0.9131  1.3154  2.0306  0.7094  2.4833  2.2171  1.9158  2.8746  1.2039\n",
      "  1.7726 -0.2472  1.2734  2.1338  0.9947  2.0934  1.3998  2.0636  2.2114\n",
      "  2.0253  2.435   2.6932  1.5387  2.1634  2.1284  2.2411  1.4443  1.1242\n",
      "  2.4545  3.0553  1.6071  2.4735  1.625   1.3043  1.4784  2.405   1.3329\n",
      "  2.1713  1.5829]\n",
      "\n",
      "This states if a point is in class 0: \n",
      "[1. 1. 1. 1. 1. 1. 1. 1. 1. 1. 1. 1. 1. 1. 1. 1. 1. 1. 1. 1. 1. 1. 1. 1.\n",
      " 1. 1. 1. 1. 1. 1. 1. 1. 1. 1. 1. 1. 1. 1. 1. 1. 1. 1. 1. 1. 1. 1. 1. 1.\n",
      " 1. 1. 1. 1. 1. 1. 1. 1. 1. 1. 1. 1. 1. 1. 1. 1. 1. 1. 1. 1. 1. 1. 1. 1.\n",
      " 1. 1. 1. 1. 1. 1. 1. 1. 1. 1. 1. 1. 1. 1. 1. 1. 1. 1. 1. 1. 1. 1. 1. 1.\n",
      " 1. 1. 1. 1. 0. 0. 0. 0. 0. 0. 0. 0. 0. 0. 0. 0. 0. 0. 0. 0. 0. 0. 0. 0.\n",
      " 0. 0. 0. 0. 0. 0. 0. 0. 0. 0. 0. 0. 0. 0. 0. 0. 0. 0. 0. 0. 0. 0. 0. 0.\n",
      " 0. 0. 0. 0. 0. 0. 0. 0. 0. 0. 0. 0. 0. 0. 0. 0. 0. 0. 0. 0. 0. 0. 0. 0.\n",
      " 0. 0. 0. 0. 0. 0. 0. 0. 0. 0. 0. 0. 0. 0. 0. 0. 0. 0. 0. 0. 0. 0. 0. 0.\n",
      " 0. 0. 0. 0. 0. 0. 0. 0.]\n",
      "\n",
      "This states if a point is in class 1: \n",
      "[0. 0. 0. 0. 0. 0. 0. 0. 0. 0. 0. 0. 0. 0. 0. 0. 0. 0. 0. 0. 0. 0. 0. 0.\n",
      " 0. 0. 0. 0. 0. 0. 0. 0. 0. 0. 0. 0. 0. 0. 0. 0. 0. 0. 0. 0. 0. 0. 0. 0.\n",
      " 0. 0. 0. 0. 0. 0. 0. 0. 0. 0. 0. 0. 0. 0. 0. 0. 0. 0. 0. 0. 0. 0. 0. 0.\n",
      " 0. 0. 0. 0. 0. 0. 0. 0. 0. 0. 0. 0. 0. 0. 0. 0. 0. 0. 0. 0. 0. 0. 0. 0.\n",
      " 0. 0. 0. 0. 1. 1. 1. 1. 1. 1. 1. 1. 1. 1. 1. 1. 1. 1. 1. 1. 1. 1. 1. 1.\n",
      " 1. 1. 1. 1. 1. 1. 1. 1. 1. 1. 1. 1. 1. 1. 1. 1. 1. 1. 1. 1. 1. 1. 1. 1.\n",
      " 1. 1. 1. 1. 1. 1. 1. 1. 1. 1. 1. 1. 1. 1. 1. 1. 1. 1. 1. 1. 1. 1. 1. 1.\n",
      " 1. 1. 1. 1. 1. 1. 1. 1. 1. 1. 1. 1. 1. 1. 1. 1. 1. 1. 1. 1. 1. 1. 1. 1.\n",
      " 1. 1. 1. 1. 1. 1. 1. 1.]\n",
      "\n"
     ]
    }
   ],
   "source": [
    "x0_class0, x1_class0, x0_class1, x1_class1 = np.loadtxt('classasgntrain1.dat').T\n",
    "data_x0 = np.concatenate((x0_class0, x0_class1))\n",
    "data_x1 = np.concatenate((x1_class0, x1_class1))\n",
    "data_y_class0 = np.concatenate((np.ones(x0_class0.size), np.zeros(x0_class1.size)))\n",
    "data_y_class1 = np.concatenate((np.zeros(x1_class0.size), np.ones(x1_class1.size)))\n",
    "data = np.asanyarray((data_x0, data_x1, data_y_class0, data_y_class1))\n",
    "print(f'This is x0 array: \\n{data[0]}')\n",
    "print()\n",
    "print(f'This is x1 array: \\n{data[1]}')\n",
    "print()\n",
    "print(f'This states if a point is in class 0: \\n{data[2]}')\n",
    "print()\n",
    "print(f'This states if a point is in class 1: \\n{data[3]}')\n",
    "print()"
   ]
  },
  {
   "cell_type": "code",
   "execution_count": 40,
   "metadata": {},
   "outputs": [
    {
     "name": "stdout",
     "output_type": "stream",
     "text": [
      "This is random_x0 array: \n",
      "[ 2.5689   0.88525  2.3657  ... -1.0755  -1.337    1.9775 ]\n",
      "\n",
      "This is random_x1 array: \n",
      "[0.10318  0.4179   2.0423   ... 0.20494  0.016222 0.34298 ]\n",
      "\n",
      "This states if a point is in class 0: \n",
      "[1. 1. 1. ... 0. 0. 0.]\n",
      "\n",
      "This states if a point is in class 1: \n",
      "[0. 0. 0. ... 1. 1. 1.]\n",
      "\n"
     ]
    }
   ],
   "source": [
    "random0_class0, random1_class0, random0_class1, random1_class1 = np.loadtxt('outputFile.dat').T\n",
    "random_x0 = np.concatenate((random0_class0, random0_class1))\n",
    "random_x1 = np.concatenate((random1_class0, random1_class1))\n",
    "random_y_class0 = np.concatenate((np.ones(random0_class0.size), np.zeros(random0_class1.size)))\n",
    "random_y_class1 = np.concatenate((np.zeros(random1_class0.size), np.ones(random1_class1.size)))\n",
    "random_data = np.asanyarray((random_x0, random_x1, random_y_class0, random_y_class1))\n",
    "print(f'This is random_x0 array: \\n{random_data[0]}')\n",
    "print()\n",
    "print(f'This is random_x1 array: \\n{random_data[1]}')\n",
    "print()\n",
    "print(f'This states if a point is in class 0: \\n{random_data[2]}')\n",
    "print()\n",
    "print(f'This states if a point is in class 1: \\n{random_data[3]}')\n",
    "print()"
   ]
  },
  {
   "cell_type": "code",
   "execution_count": 41,
   "metadata": {},
   "outputs": [],
   "source": [
    "fig = useful_functions.DrawOneDataset(data, 'x', 'o', 'green', 'red', 'Class 0', 'Class 1', \"Sample Population\")\n",
    "fig.run_drawing()"
   ]
  },
  {
   "cell_type": "code",
   "execution_count": 42,
   "metadata": {},
   "outputs": [],
   "source": [
    "# linear regression function from project 1\n",
    "# NOTE: this didn't work on windows maybe\n",
    "def linear_regression(x0, x1, y):\n",
    "    '''x (numpy.ndarray): x-coordinates of training data\n",
    "    y (numpy.ndarray): y-coordinates of training data'''\n",
    "    X_aug = np.stack((np.ones(x0.size), x0, x1), axis=1)\n",
    "    Beta = np.dot(np.dot(np.linalg.pinv(np.dot(X_aug.T, X_aug)), X_aug.T), y)\n",
    "    return Beta\n",
    "\n",
    "# gestimating an output given an input and a linear regression\n",
    "# NOTE: this didn't work on windows maybe\n",
    "def least_squares_est(x0, x1, beta):\n",
    "    '''x (numpy.ndarray): x-coordinate which we want a prediction value for based on the model of beta\n",
    "    y_hat (numpy.ndarray): y-coordinate predictions based on given inputs x'''\n",
    "    X_aug = np.stack((np.ones(x0.size), x0, x1), axis=1)\n",
    "    y_hat = np.dot(X_aug, beta)\n",
    "    return y_hat"
   ]
  },
  {
   "cell_type": "code",
   "execution_count": 43,
   "metadata": {},
   "outputs": [],
   "source": [
    "def gen_2D_array(N, upper, lower):\n",
    "    x_extended0 = np.array([])\n",
    "    for i in range(N):\n",
    "        x_extended0 = np.append(x_extended0, np.linspace(lower, upper, N))\n",
    "    x_extended1 = np.array([])\n",
    "    for i in np.linspace(lower, upper, N):\n",
    "        x_extended1 = np.append(x_extended1, np.repeat(i, N))\n",
    "\n",
    "    return x_extended0, x_extended1"
   ]
  },
  {
   "cell_type": "code",
   "execution_count": 44,
   "metadata": {},
   "outputs": [],
   "source": [
    "x_extended0, x_extended1 = gen_2D_array(25, -5, 5)\n",
    "x_extended = np.vstack((x_extended0, x_extended1))"
   ]
  },
  {
   "cell_type": "code",
   "execution_count": 45,
   "metadata": {},
   "outputs": [],
   "source": [
    "beta0 = linear_regression(data[0], data[1], data[2])\n",
    "beta1 = linear_regression(data[0], data[1], data[3])\n",
    "\n",
    "y0_hat = least_squares_est(x_extended0, x_extended1, beta0)\n",
    "y1_hat = least_squares_est(x_extended0, x_extended1, beta1)\n",
    "data_hat = np.vstack((x_extended0, x_extended1, y0_hat, y1_hat))\n",
    "\n",
    "fig = useful_functions.DrawTwoDataset(data_hat, data, '*', '*', 'x', 'o',\n",
    "                                    'blue', 'orange', 'green', 'red',\n",
    "                                    'LSR Estimatied Class 0', 'LSR Estimated Class 1', 'Given Class 0', 'Given Class 1', \"LSR Field\")\n",
    "fig.run_drawing()"
   ]
  },
  {
   "cell_type": "code",
   "execution_count": 46,
   "metadata": {},
   "outputs": [
    {
     "name": "stdout",
     "output_type": "stream",
     "text": [
      "Error rate of LSR on Given Data: 0.145\n"
     ]
    }
   ],
   "source": [
    "y0_hat = least_squares_est(data[0], data[1], beta0)\n",
    "y1_hat = least_squares_est(data[0], data[1], beta1)\n",
    "data_hat = np.vstack((data[0], data[1], y0_hat, y1_hat))\n",
    "\n",
    "value_vector = np.array([])\n",
    "for i in range(data_hat[3].size):\n",
    "    if data_hat[3][i] > 0.5:\n",
    "        value_vector = np.append(value_vector, 1)\n",
    "    else:\n",
    "        value_vector = np.append(value_vector, 0)\n",
    "\n",
    "error_rate = np.sum(np.abs(value_vector - data[3])) / data[3].size\n",
    "print(f'Error rate of LSR on Given Data: {error_rate}')\n",
    "\n",
    "fig = useful_functions.DrawTwoDataset(data_hat, data, '*', '*', 'x', 'o',\n",
    "                                    'blue', 'orange', 'green', 'red',\n",
    "                                    'LSR Estimatied Class 0', 'LSR Estimated Class 1', 'Given Class 0', 'Given Class 1', \"LSR of Given Data\")\n",
    "fig.run_drawing()"
   ]
  },
  {
   "cell_type": "code",
   "execution_count": 47,
   "metadata": {},
   "outputs": [
    {
     "name": "stdout",
     "output_type": "stream",
     "text": [
      "Error rate of LSR on Random Data: 0.2061\n"
     ]
    }
   ],
   "source": [
    "random0_hat = least_squares_est(random_data[0], random_data[1], beta0)\n",
    "random1_hat = least_squares_est(random_data[0], random_data[1], beta1)\n",
    "random_guess = np.vstack((random_data[0], random_data[1], random0_hat, random1_hat))\n",
    "\n",
    "value_vector = np.array([])\n",
    "for i in range(random_guess[3].size):\n",
    "    if random_guess[3][i] > 0.5:\n",
    "        value_vector = np.append(value_vector, 1)\n",
    "    else:\n",
    "        value_vector = np.append(value_vector, 0)\n",
    "\n",
    "error_rate = np.sum(np.abs(value_vector - random_data[3])) / random_data[3].size\n",
    "print(f'Error rate of LSR on Random Data: {error_rate}')\n",
    "\n",
    "fig = useful_functions.DrawTwoDataset(random_guess, random_data, '*', '*', 'x', 'o',\n",
    "                                    'blue', 'orange', 'green', 'red',\n",
    "                                    'Estimation of Class 0', 'Estimation of Class 1', 'Randomly Generated Class 0', 'Randomly Generated Class 1', \"LSR Random Data\")\n",
    "fig.run_drawing()"
   ]
  },
  {
   "cell_type": "code",
   "execution_count": 48,
   "metadata": {},
   "outputs": [],
   "source": [
    "# quadratic regression function from project 1\n",
    "# NOTE: this didn't work on windows maybe\n",
    "def quadratic_regression(x0, x1, y):\n",
    "    '''x (numpy.ndarray): x-coordinates of training data\n",
    "    y (numpy.ndarray): y-coordinates of training data'''\n",
    "    X_aug = np.stack((np.ones(x0.size), x0, x0**2, x1, x1**2, x0*x1), axis=1)\n",
    "    Beta = np.dot(np.dot(np.linalg.pinv(np.dot(X_aug.T, X_aug)), X_aug.T), y)\n",
    "    return Beta\n",
    "\n",
    "# gestimating an output given an input and a quadratic regression\n",
    "# NOTE: this didn't work on windows maybe\n",
    "def quad_least_squares_est(x0, x1, beta):\n",
    "    '''x (numpy.ndarray): x-coordinate which we want a prediction value for based on the model of beta\n",
    "    y_hat (numpy.ndarray): y-coordinate predictions based on given inputs x'''\n",
    "    X_aug = np.stack((np.ones(x0.size), x0, x0**2, x1, x1**2, x0*x1), axis=1)\n",
    "    y_hat = np.dot(X_aug, beta)\n",
    "    return y_hat"
   ]
  },
  {
   "cell_type": "code",
   "execution_count": 49,
   "metadata": {},
   "outputs": [],
   "source": [
    "qbeta0 = quadratic_regression(data[0], data[1], data[2])\n",
    "qbeta1 = quadratic_regression(data[0], data[1], data[3])\n",
    "\n",
    "y0_hat = quad_least_squares_est(x_extended0, x_extended1, qbeta0)\n",
    "y1_hat = quad_least_squares_est(x_extended0, x_extended1, qbeta1)\n",
    "data_hat = np.vstack((x_extended0, x_extended1, y0_hat, y1_hat))\n",
    "\n",
    "fig = useful_functions.DrawTwoDataset(data_hat, data, '*', '*', 'x', 'o',\n",
    "                                    'blue', 'orange', 'green', 'red',\n",
    "                                    'Quad. LSR Est. Class 0', 'Quad. LSR Est. Class 1', 'Given Class 0', 'Given Class 1', \"QLSR Field\")\n",
    "fig.run_drawing()"
   ]
  },
  {
   "cell_type": "code",
   "execution_count": 50,
   "metadata": {},
   "outputs": [
    {
     "name": "stdout",
     "output_type": "stream",
     "text": [
      "Error rate of LSR on Given Data: 0.145\n"
     ]
    }
   ],
   "source": [
    "y0_hat = quad_least_squares_est(data[0], data[1], qbeta0)\n",
    "y1_hat = quad_least_squares_est(data[0], data[1], qbeta1)\n",
    "data_hat = np.vstack((data[0], data[1], y0_hat, y1_hat))\n",
    "\n",
    "value_vector = np.array([])\n",
    "for i in range(data_hat[3].size):\n",
    "    if data_hat[3][i] > 0.5:\n",
    "        value_vector = np.append(value_vector, 1)\n",
    "    else:\n",
    "        value_vector = np.append(value_vector, 0)\n",
    "\n",
    "error_rate = np.sum(np.abs(value_vector - data[3])) / data[3].size\n",
    "print(f'Error rate of LSR on Given Data: {error_rate}')\n",
    "\n",
    "fig = useful_functions.DrawTwoDataset(data_hat, data, '*', '*', 'x', 'o',\n",
    "                                    'blue', 'orange', 'green', 'red',\n",
    "                                    'Quad. LSR Est. Class 0', 'Quad. LSR Est. Class 1', 'Given Class 0', 'Given Class 1', \"QLSR of Given Data\")\n",
    "fig.run_drawing()"
   ]
  },
  {
   "cell_type": "code",
   "execution_count": 51,
   "metadata": {},
   "outputs": [
    {
     "name": "stdout",
     "output_type": "stream",
     "text": [
      "Error rate of LSR on Random Data: 0.2053\n"
     ]
    }
   ],
   "source": [
    "random0_hat = quad_least_squares_est(random_data[0], random_data[1], qbeta0)\n",
    "random1_hat = quad_least_squares_est(random_data[0], random_data[1], qbeta1)\n",
    "random_guess = np.vstack((random_data[0], random_data[1], random0_hat, random1_hat))\n",
    "\n",
    "value_vector = np.array([])\n",
    "for i in range(random_guess[3].size):\n",
    "    if random_guess[3][i] > 0.5:\n",
    "        value_vector = np.append(value_vector, 1)\n",
    "    else:\n",
    "        value_vector = np.append(value_vector, 0)\n",
    "\n",
    "error_rate = np.sum(np.abs(value_vector - random_data[3])) / random_data[3].size\n",
    "print(f'Error rate of LSR on Random Data: {error_rate}')\n",
    "\n",
    "fig = useful_functions.DrawTwoDataset(random_guess, random_data, '*', '*', 'x', 'o',\n",
    "                                    'blue', 'orange', 'green', 'red',\n",
    "                                    'Quad. LSR Est. Class 0', 'Quad. LSR Est. Class 1', 'Randomly Generated Class 0', 'Randomly Generated Class 1', \"QLSR Random Data\")\n",
    "fig.run_drawing()"
   ]
  },
  {
   "cell_type": "code",
   "execution_count": 52,
   "metadata": {},
   "outputs": [],
   "source": [
    "def get_distance(x1,y1,x2,y2):\n",
    "    \"\"\"x1/y1 correspond to first coordinate\n",
    "    and x2/y2 correspond to second coordinate\"\"\"\n",
    "    return np.sqrt((x2-x1)**2 + (y2-y1)**2)\n",
    "\n",
    "def nearest_neighbor_var(unknown, known, num_nearest):\n",
    "    if num_nearest >= known[0].size:\n",
    "        raise ValueError('The order of nearest neighbor must be less than the number of known points')\n",
    "    output_array = np.zeros(unknown[0].size)\n",
    "    temp_data = np.vstack((np.zeros(known[0].size), np.zeros(known[0].size)))\n",
    "    for j in range(unknown[0].size):\n",
    "        for i in range(known[0].size):\n",
    "            temp_data[0][i] = get_distance(known[0][i], known[1][i], unknown[0][j], unknown[1][j])\n",
    "            temp_data[1][i] = known[3][i]\n",
    "        largest_distancex2 = 2*temp_data[0][np.argmax(temp_data[0])]\n",
    "        for z in range(num_nearest):\n",
    "            min_position = np.argmin(temp_data[0])\n",
    "            output_array[j] += temp_data[1][min_position]\n",
    "            temp_data[0][min_position] = largest_distancex2\n",
    "        \n",
    "    output_array = output_array / num_nearest\n",
    "    \n",
    "    return output_array"
   ]
  },
  {
   "cell_type": "code",
   "execution_count": 57,
   "metadata": {},
   "outputs": [],
   "source": [
    "nearest_neighbor_count = 5\n",
    "output_array = nearest_neighbor_var(x_extended, data, nearest_neighbor_count)\n",
    "data_hat = np.vstack((x_extended, np.abs(output_array-1), output_array))\n",
    "\n",
    "fig = useful_functions.DrawTwoDataset(data_hat, data, '*', '*', 'x', 'o',\n",
    "                                    'blue', 'orange', 'green', 'red',\n",
    "                                    'NN Est. Class 0', 'NN Est. Class 1', 'Given Class 0', 'Given Class 1', f\"{nearest_neighbor_count}-Nearest Neighbor Field\")\n",
    "fig.run_drawing()"
   ]
  },
  {
   "cell_type": "code",
   "execution_count": 58,
   "metadata": {},
   "outputs": [
    {
     "name": "stdout",
     "output_type": "stream",
     "text": [
      "Error rate of 1-NN on Given Data: 0.0\n"
     ]
    }
   ],
   "source": [
    "nearest_neighbor_count = 5\n",
    "output_array = nearest_neighbor_var(data, data, nearest_neighbor_count)\n",
    "data_hat = np.vstack((data[0], data[1], 1-output_array, output_array))\n",
    "\n",
    "error_rate = np.sum(np.abs(np.round(data_hat[3]) - data[3])) / data[3].size\n",
    "print(f'Error rate of {nearest_neighbor_count}-NN on Given Data: {error_rate}')\n",
    "\n",
    "fig = useful_functions.DrawTwoDataset(data_hat, data, '*', '*', 'x', 'o',\n",
    "                                    'blue', 'orange', 'green', 'red',\n",
    "                                    'NN Est. Class 0', 'NN Est. Class 1', 'Given Class 0', 'Given Class 1', f\"Given {nearest_neighbor_count}-Nearest Neighbor\")\n",
    "fig.run_drawing()"
   ]
  },
  {
   "cell_type": "code",
   "execution_count": 59,
   "metadata": {},
   "outputs": [
    {
     "name": "stdout",
     "output_type": "stream",
     "text": [
      "Error rate of 1-NN on Random Data: 0.2183\n"
     ]
    }
   ],
   "source": [
    "nearest_neighbor_count = 5\n",
    "output_array = nearest_neighbor_var(random_data, data, nearest_neighbor_count)\n",
    "data_hat = np.vstack((random_data[0], random_data[1], 1-output_array, output_array))\n",
    "\n",
    "error_rate = np.sum(np.abs(np.round(data_hat[3]) - random_data[3])) / random_data[3].size\n",
    "print(f'Error rate of {nearest_neighbor_count}-NN on Random Data: {error_rate}')\n",
    "\n",
    "fig = useful_functions.DrawTwoDataset(data_hat, random_data, '*', '*', 'x', 'o',\n",
    "                                    'blue', 'orange', 'green', 'red',\n",
    "                                    'NN Est. Class 0', 'NN Est. Class 1', 'Randomly Generated Class 0', 'Randomly Generated Class 1', f\"Random {nearest_neighbor_count}-Nearest Neighbor\")\n",
    "fig.run_drawing()"
   ]
  }
 ],
 "metadata": {
  "kernelspec": {
   "display_name": "Python 3",
   "language": "python",
   "name": "python3"
  },
  "language_info": {
   "codemirror_mode": {
    "name": "ipython",
    "version": 3
   },
   "file_extension": ".py",
   "mimetype": "text/x-python",
   "name": "python",
   "nbconvert_exporter": "python",
   "pygments_lexer": "ipython3",
   "version": "3.10.9"
  },
  "orig_nbformat": 4,
  "vscode": {
   "interpreter": {
    "hash": "e7370f93d1d0cde622a1f8e1c04877d8463912d04d973331ad4851f04de6915a"
   }
  }
 },
 "nbformat": 4,
 "nbformat_minor": 2
}
